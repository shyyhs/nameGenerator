{
 "cells": [
  {
   "cell_type": "code",
   "execution_count": 8,
   "metadata": {},
   "outputs": [],
   "source": [
    "import os\n",
    "import sys\n",
    "from io import open\n",
    "import unicodedata\n",
    "import random\n",
    "import time\n",
    "import string\n",
    "import math\n",
    "import glob\n",
    "\n",
    "#torch\n",
    "import torch\n",
    "from torch import optim\n",
    "import torch.nn as nn\n",
    "import torch.nn.functional as F\n",
    "\n",
    "#plot\n",
    "import matplotlib.pyplot as plt\n",
    "import matplotlib.ticker as ticker\n",
    "\n",
    "#use \"$export CUDA_VISIBLE_DEVICES=2,3,...\" to assign GPU\n",
    "#device=torch.device(\"cuda\" if torch.cuda.is_available() else \"cpu\")\n",
    "device=torch.device(\"cpu\")"
   ]
  },
  {
   "cell_type": "code",
   "execution_count": 9,
   "metadata": {},
   "outputs": [],
   "source": [
    "#small Functions\n",
    "\n",
    "def toTensor(tokLst):#tokLst: a numpy or python list of numbers\n",
    "    return torch.tensor(tokLst, dtype=torch.long, device=device)\n",
    "\n",
    "def randomTrainingData(tNames):\n",
    "    tName= tNames[random.randint(0,len(tNames)-1)]\n",
    "    inputT = toTensor(tName[:-1])\n",
    "    targetT = toTensor(tName[1:])\n",
    "    return inputT,targetT\n",
    "\n",
    "def stringLstReverse(stringLst):\n",
    "    return [s[::-1] for s in stringLst]\n",
    "\n",
    "def reverseNameGenerate(fileName):\n",
    "    baseName= (os.path.basename(fileName))\n",
    "    dirName = os.path.dirname(fileName)\n",
    "    revFileName = dirName+'/'+baseName+'.reverse'\n",
    "    revFile = open(revFileName,'w')\n",
    "    file = open(fileName,'r')\n",
    "    for line in file:\n",
    "        revFile.write(line[:-1][::-1]+'\\n')\n",
    "    file.close()\n",
    "    revFile.close()\n",
    "    return revFileName\n",
    "    "
   ]
  },
  {
   "cell_type": "markdown",
   "metadata": {},
   "source": [
    "# Model"
   ]
  },
  {
   "cell_type": "code",
   "execution_count": 10,
   "metadata": {},
   "outputs": [],
   "source": [
    "class RNN(nn.Module):\n",
    "    def __init__(self,inputSize,hiddenSize,outputSize):\n",
    "        super(RNN,self).__init__()\n",
    "        self.hiddenSize=hiddenSize\n",
    "        self.inputSize=inputSize\n",
    "        self.layerN=2\n",
    "        self.embedding = nn.Embedding(inputSize, hiddenSize)\n",
    "        self.gru=nn.GRU(hiddenSize,hiddenSize,num_layers=2)\n",
    "        self.o2o=nn.Linear(hiddenSize,outputSize)\n",
    "        self.dropout=nn.Dropout(0.1)\n",
    "        self.softmax=nn.LogSoftmax(dim=1)\n",
    "    def forward(self,input,hidden):\n",
    "        inputEmbedding = self.embedding(input.view(-1,1)).view(1, 1, -1)\n",
    "        inputEmbedding = F.relu(inputEmbedding)\n",
    "        output,hidden=self.gru(inputEmbedding,hidden)\n",
    "        output=self.o2o(output)\n",
    "        output=output[0]\n",
    "        output=self.dropout(output)\n",
    "        output=self.softmax(output)\n",
    "        return output,hidden\n",
    "    def initHidden(self):\n",
    "        return torch.zeros(self.layerN,1,self.hiddenSize,device=device)"
   ]
  },
  {
   "cell_type": "markdown",
   "metadata": {},
   "source": [
    "# nameGenerator"
   ]
  },
  {
   "cell_type": "code",
   "execution_count": 34,
   "metadata": {},
   "outputs": [],
   "source": [
    "class nameGenerator():\n",
    "    def dataInit(self,fileName):\n",
    "        nameFile = open(fileName,'r')\n",
    "        self.c2n={}\n",
    "        self.n2c={}\n",
    "        self.c2n[\"EOS\"]=0\n",
    "        self.n2c[0]=\"EOS\"\n",
    "        self.c2n[\"SOS\"]=1\n",
    "        self.n2c[1]=\"SOS\"\n",
    "        self.nowIdx=1\n",
    "        self.totChar=2\n",
    "        self.names=[] #For example names[0]==['b',c,d]\n",
    "        self.tNames=[] #Corresponding example: tNames[0]=[0,3,9,2,1] \n",
    "        \n",
    "        for line in nameFile:\n",
    "            name=[]\n",
    "            tName=[]\n",
    "            tName.append(self.c2n[\"SOS\"])\n",
    "            for c in line:\n",
    "                if (self.c2n.get(c)==None):\n",
    "                    self.nowIdx+=1\n",
    "                    self.totChar+=1\n",
    "                    self.c2n[c]=self.nowIdx\n",
    "                    self.n2c[self.nowIdx]=c\n",
    "                if (c!='\\n'):\n",
    "                    name.append(c)\n",
    "                    tName.append(self.c2n[c])\n",
    "            tName.append(self.c2n[\"EOS\"])\n",
    "            self.names.append(name)\n",
    "            self.tNames.append(tName)\n",
    "            \n",
    "    def modelInit(self):\n",
    "        self.nn=RNN(self.totChar,self.hiddenSize,self.totChar)\n",
    "        if (device!=torch.device(\"cpu\")):\n",
    "            self.nn.cuda()\n",
    "            \n",
    "    def trainInit(self):\n",
    "        self.optimizer = optim.Adagrad(self.nn.parameters())\n",
    "        self.criterion=nn.NLLLoss()\n",
    "        \n",
    "        self.print_avgLoss=[]\n",
    "        \n",
    "    def parameterInit(self):\n",
    "        self.iterN=1000\n",
    "        self.hiddenSize=128\n",
    "        self.maxLen=12\n",
    "        self.sampleNumber=15\n",
    "        \n",
    "        self.printEveryIter=200\n",
    "        self.startTime=time.time()\n",
    "        \n",
    "    def __init__(self,fileName):\n",
    "        self.parameterInit()\n",
    "        self.dataInit(fileName)\n",
    "        self.modelInit()\n",
    "        self.trainInit()\n",
    "        \n",
    "    def print(self):\n",
    "        plt.figure()\n",
    "        plt.plot(self.print_avgLoss)\n",
    "        \n",
    "    def trainOneIter(self,inputT,targetT):\n",
    "        targetT.unsqueeze_(-1)\n",
    "\n",
    "        loss=0\n",
    "        hidden=self.nn.initHidden()\n",
    "        for i in range(inputT.size(0)):\n",
    "            output,hidden=self.nn(inputT[i],hidden)\n",
    "            loss+=self.criterion(output,targetT[i])\n",
    "\n",
    "        self.optimizer.zero_grad()\n",
    "        loss.backward()\n",
    "        self.optimizer.step()\n",
    "\n",
    "        return output,loss.item()/inputT.size(0)\n",
    "    \n",
    "    def train(self):\n",
    "        totLoss=0\n",
    "        for iter in range(1,self.iterN+1):\n",
    "            output,loss=self.trainOneIter(*randomTrainingData(self.tNames))\n",
    "            totLoss+=loss\n",
    "            if (iter%self.printEveryIter==0):\n",
    "                avgLoss= (totLoss/self.printEveryIter)\n",
    "                print(\"Training Time:{}, recentAvgLoss:{}\".\n",
    "                      format(time.time()-self.startTime,avgLoss))\n",
    "                totLoss=0\n",
    "                self.print_avgLoss.append(avgLoss)\n",
    "                \n",
    "    def sample(self,prefix=''):\n",
    "        with torch.no_grad():\n",
    "            tPrefix=[self.c2n['SOS']]\n",
    "            for c in prefix:\n",
    "                tPrefix.append(self.c2n[c])\n",
    "            inputT = toTensor(tPrefix)\n",
    "\n",
    "            hidden = self.nn.initHidden()\n",
    "            outputName=prefix\n",
    "            for i in range(inputT.size(0)-1):\n",
    "                output,hidden=self.nn(inputT[i],hidden)\n",
    "            for i in range(self.maxLen):\n",
    "                output,hidden=self.nn(inputT[-1],hidden)\n",
    "                topv,topi=output.topk(1)\n",
    "                topi=topi[0][0].item()\n",
    "                if (topi==self.c2n[\"EOS\"]):\n",
    "                    break\n",
    "                else:\n",
    "                    outputName+=self.n2c[topi]\n",
    "                inputT=toTensor([topi])\n",
    "        return outputName\n",
    "    def samples(self,prefix):\n",
    "        self.sampleNumber=100\n",
    "        resLst = [self.sample(prefix) for i in range(self.sampleNumber)]\n",
    "        return list(set(resLst))"
   ]
  },
  {
   "cell_type": "code",
   "execution_count": 35,
   "metadata": {},
   "outputs": [
    {
     "name": "stdout",
     "output_type": "stream",
     "text": [
      "Training Time:14.033302068710327, recentAvgLoss:4.232105996320773\n",
      "Training Time:27.666484832763672, recentAvgLoss:4.087250282518447\n",
      "Training Time:41.17456340789795, recentAvgLoss:4.024718845329588\n",
      "Training Time:54.64808106422424, recentAvgLoss:3.949638739569311\n",
      "Training Time:68.47121977806091, recentAvgLoss:3.8400008655499773\n",
      "Training Time:13.407987117767334, recentAvgLoss:4.1836192606668625\n",
      "Training Time:27.201162099838257, recentAvgLoss:4.10327206284281\n",
      "Training Time:40.60256743431091, recentAvgLoss:3.8437768606851916\n",
      "Training Time:54.075201749801636, recentAvgLoss:3.8594011012692455\n",
      "Training Time:67.86471462249756, recentAvgLoss:3.819365395580894\n"
     ]
    },
    {
     "data": {
      "image/png": "[encoded data removed]",
      "text/plain": [
       "<Figure size 432x288 with 1 Axes>"
      ]
     },
     "metadata": {
      "needs_background": "light"
     },
     "output_type": "display_data"
    },
    {
     "data": {
      "image/png": "[encoded data removed]",
      "text/plain": [
       "<Figure size 432x288 with 1 Axes>"
      ]
     },
     "metadata": {
      "needs_background": "light"
     },
     "output_type": "display_data"
    }
   ],
   "source": [
    "originalFileName = \"atcoderUserName.txt\"\n",
    "reverseFileName = reverseNameGenerate(originalFileName)\n",
    "\n",
    "nameGenerator1 = nameGenerator(originalFileName)\n",
    "nameGenerator1.train()\n",
    "nameGenerator1.print()\n",
    "nameGenerator2 = nameGenerator(reverseFileName)\n",
    "nameGenerator2.train()\n",
    "nameGenerator2.print()\n"
   ]
  },
  {
   "cell_type": "code",
   "execution_count": 42,
   "metadata": {},
   "outputs": [
    {
     "name": "stdout",
     "output_type": "stream",
     "text": [
      "['すかん', 'すん', 'すい', 'すいた', 'すかた', 'すいん', 'すか', 'すいんたん']\n",
      "['ちす', 'ンちーす', 'メンちーす', 'ちーす', 'スーす', 'いーす', 'ッスーす', 'フちーす']\n"
     ]
    }
   ],
   "source": [
    "testString=''\n",
    "print (nameGenerator1.samples(testString))\n",
    "print (stringLstReverse(nameGenerator2.samples(testString[::-1])))"
   ]
  },
  {
   "cell_type": "code",
   "execution_count": 37,
   "metadata": {},
   "outputs": [
    {
     "name": "stdout",
     "output_type": "stream",
     "text": [
      "{'EOS': 0, 'SOS': 1, 'し': 2, 'ゅ': 3, 'が': 4, 'ぽ': 5, 'よ': 6, '\\n': 7, 'え': 8, 'び': 9, 'に': 10, 'ゃ': 11, 'ん': 12, 'ぷ': 13, 'ら': 14, 'す': 15, 'て': 16, 'ぃ': 17, 'ー': 18, 'む': 19, 'か': 20, 'く': 21, 'ま': 22, 'い': 23, 'り': 24, 'あ': 25, 'の': 26, 'う': 27, 'と': 28, 'ほ': 29, 'げ': 30, 'ふ': 31, 'ス': 32, 'イ': 33, 'も': 34, 'を': 35, 'さ': 36, 'ぎ': 37, 'セ': 38, 'カ': 39, 'ど': 40, 'こ': 41, 'み': 42, 'マ': 43, 'ン': 44, 'る': 45, 'ご': 46, 'フ': 47, 'ェ': 48, 'リ': 49, 'や': 50, 'ざ': 51, 'た': 52, 'ぞ': 53, 'け': 54, 'っ': 55, 'ぱ': 56, 'シ': 57, 'ョ': 58, 'テ': 59, 'ィ': 60, 'ハ': 61, 'ド': 62, 'ゥ': 63, 'ぬ': 64, 'ね': 65, 'き': 66, 'ち': 67, 'な': 68, 'ろ': 69, 'ず': 70, 'バ': 71, 'ッ': 72, 'チ': 73, 'コ': 74, 'メ': 75, 'ゴ': 76, 'ジ': 77, 'ラ': 78, 'ア': 79, 'ト': 80, 'ウ': 81, 'ム': 82, 'ニ': 83, 'ャ': 84, 'お': 85, 'ダ': 86, 'つ': 87, 'じ': 88, 'ク': 89, 'ゆ': 90, 'ツ': 91, 'サ': 92, 'プ': 93, 'ズ': 94, 'ぴ': 95, 'ぜ': 96, 'そ': 97, 'め': 98, 'ぺ': 99, 'グ': 100, 'せ': 101, 'タ': 102, 'パ': 103, 'オ': 104, 'キ': 105, 'だ': 106, 'ぇ': 107, 'ロ': 108, 'ソ': 109, 'は': 110, 'ゐ': 111, 'エ': 112, 'ゾ': 113, 'ケ': 114, 'ユ': 115, 'わ': 116, 'ノ': 117, 'ょ': 118, 'で': 119, 'れ': 120, 'ワ': 121, 'ボ': 122, 'べ': 123, 'ひ': 124, 'ぐ': 125, 'ミ': 126, 'ル': 127, 'ビ': 128, 'ホ': 129, 'ぁ': 130, 'ヨ': 131, 'ブ': 132, 'ュ': 133, 'ネ': 134, 'ォ': 135, 'ペ': 136, 'へ': 137, 'ぶ': 138, 'ピ': 139, 'ヤ': 140, 'ナ': 141, 'ギ': 142, 'ヴ': 143, 'ァ': 144, 'づ': 145, 'モ': 146, 'ぅ': 147, 'ば': 148, 'ぼ': 149, 'ポ': 150, 'レ': 151, 'ぉ': 152, 'ヌ': 153, 'ヒ': 154, 'ヘ': 155}\n"
     ]
    }
   ],
   "source": [
    "print (nameGenerator1.c2n)"
   ]
  },
  {
   "cell_type": "code",
   "execution_count": null,
   "metadata": {},
   "outputs": [],
   "source": []
  }
 ],
 "metadata": {
  "kernelspec": {
   "display_name": "Python 3",
   "language": "python",
   "name": "python3"
  },
  "language_info": {
   "codemirror_mode": {
    "name": "ipython",
    "version": 3
   },
   "file_extension": ".py",
   "mimetype": "text/x-python",
   "name": "python",
   "nbconvert_exporter": "python",
   "pygments_lexer": "ipython3",
   "version": "3.7.2"
  }
 },
 "nbformat": 4,
 "nbformat_minor": 2
}
